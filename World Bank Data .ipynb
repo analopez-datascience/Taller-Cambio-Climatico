{
 "cells": [
  {
   "cell_type": "code",
   "execution_count": 1,
   "id": "07ae46b0",
   "metadata": {},
   "outputs": [
    {
     "name": "stdout",
     "output_type": "stream",
     "text": [
      "Collecting world-bank-data\n",
      "  Downloading world_bank_data-0.1.3.tar.gz (12 kB)\n",
      "Requirement already satisfied: pandas in /opt/anaconda3/lib/python3.9/site-packages (from world-bank-data) (1.4.2)\n",
      "Requirement already satisfied: requests in /opt/anaconda3/lib/python3.9/site-packages (from world-bank-data) (2.27.1)\n",
      "Requirement already satisfied: cachetools in /opt/anaconda3/lib/python3.9/site-packages (from world-bank-data) (4.2.2)\n",
      "Requirement already satisfied: python-dateutil>=2.8.1 in /opt/anaconda3/lib/python3.9/site-packages (from pandas->world-bank-data) (2.8.2)\n",
      "Requirement already satisfied: pytz>=2020.1 in /opt/anaconda3/lib/python3.9/site-packages (from pandas->world-bank-data) (2021.3)\n",
      "Requirement already satisfied: numpy>=1.18.5 in /opt/anaconda3/lib/python3.9/site-packages (from pandas->world-bank-data) (1.21.5)\n",
      "Requirement already satisfied: six>=1.5 in /opt/anaconda3/lib/python3.9/site-packages (from python-dateutil>=2.8.1->pandas->world-bank-data) (1.16.0)\n",
      "Requirement already satisfied: idna<4,>=2.5 in /opt/anaconda3/lib/python3.9/site-packages (from requests->world-bank-data) (3.3)\n",
      "Requirement already satisfied: urllib3<1.27,>=1.21.1 in /opt/anaconda3/lib/python3.9/site-packages (from requests->world-bank-data) (1.26.9)\n",
      "Requirement already satisfied: certifi>=2017.4.17 in /opt/anaconda3/lib/python3.9/site-packages (from requests->world-bank-data) (2021.10.8)\n",
      "Requirement already satisfied: charset-normalizer~=2.0.0 in /opt/anaconda3/lib/python3.9/site-packages (from requests->world-bank-data) (2.0.4)\n",
      "Building wheels for collected packages: world-bank-data\n",
      "  Building wheel for world-bank-data (setup.py) ... \u001b[?25ldone\n",
      "\u001b[?25h  Created wheel for world-bank-data: filename=world_bank_data-0.1.3-py3-none-any.whl size=11112 sha256=f8518c636a40128c33122373aa037fc5d0b7744fa3506c4134c2fd62f022806f\n",
      "  Stored in directory: /Users/ana/Library/Caches/pip/wheels/16/67/47/4f1e6f17c961e04732e33ddb8b2ec7e082c0b5d1029797f381\n",
      "Successfully built world-bank-data\n",
      "Installing collected packages: world-bank-data\n",
      "Successfully installed world-bank-data-0.1.3\n",
      "Note: you may need to restart the kernel to use updated packages.\n"
     ]
    }
   ],
   "source": [
    "pip install world-bank-data"
   ]
  },
  {
   "cell_type": "code",
   "execution_count": null,
   "id": "24604fde",
   "metadata": {},
   "outputs": [],
   "source": []
  }
 ],
 "metadata": {
  "kernelspec": {
   "display_name": "Python 3 (ipykernel)",
   "language": "python",
   "name": "python3"
  },
  "language_info": {
   "codemirror_mode": {
    "name": "ipython",
    "version": 3
   },
   "file_extension": ".py",
   "mimetype": "text/x-python",
   "name": "python",
   "nbconvert_exporter": "python",
   "pygments_lexer": "ipython3",
   "version": "3.9.12"
  }
 },
 "nbformat": 4,
 "nbformat_minor": 5
}
